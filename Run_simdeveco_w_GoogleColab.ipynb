{
  "nbformat": 4,
  "nbformat_minor": 0,
  "metadata": {
    "colab": {
      "provenance": [],
      "authorship_tag": "ABX9TyN5Q69GtqIsPbIgYr8yGAG/",
      "include_colab_link": true
    },
    "kernelspec": {
      "name": "python3",
      "display_name": "Python 3"
    },
    "language_info": {
      "name": "python"
    }
  },
  "cells": [
    {
      "cell_type": "markdown",
      "metadata": {
        "id": "view-in-github",
        "colab_type": "text"
      },
      "source": [
        "<a href=\"https://colab.research.google.com/github/Andrelhu/Computational-Develecology/blob/main/Run_simdeveco_w_GoogleColab.ipynb\" target=\"_parent\"><img src=\"https://colab.research.google.com/assets/colab-badge.svg\" alt=\"Open In Colab\"/></a>"
      ]
    },
    {
      "cell_type": "markdown",
      "source": [
        "# Devecology ABM in Google Colab\n",
        "\n",
        "This notebook demonstrates how to set up and run the Devecology model in Colab."
      ],
      "metadata": {
        "id": "LzyphizmGgSF"
      }
    },
    {
      "cell_type": "code",
      "execution_count": 1,
      "metadata": {
        "colab": {
          "base_uri": "https://localhost:8080/"
        },
        "id": "IgP1mbFuGfkX",
        "outputId": "76d06f9e-c8a8-441e-fc06-354656114018"
      },
      "outputs": [
        {
          "output_type": "stream",
          "name": "stdout",
          "text": [
            "Cloning into 'Computational-Develecology'...\n",
            "remote: Enumerating objects: 163, done.\u001b[K\n",
            "remote: Counting objects: 100% (163/163), done.\u001b[K\n",
            "remote: Compressing objects: 100% (129/129), done.\u001b[K\n",
            "remote: Total 163 (delta 84), reused 94 (delta 28), pack-reused 0 (from 0)\u001b[K\n",
            "Receiving objects: 100% (163/163), 2.97 MiB | 6.32 MiB/s, done.\n",
            "Resolving deltas: 100% (84/84), done.\n",
            "/content/Computational-Develecology/simdeveco_0.2\n"
          ]
        }
      ],
      "source": [
        "# 1. Clone Repository\n",
        "!git clone https://github.com/Andrelhu/Computational-Develecology.git\n",
        "%cd Computational-Develecology/simdeveco_0.2\n"
      ]
    },
    {
      "cell_type": "markdown",
      "source": [
        "## 2. Install Dependencies\n"
      ],
      "metadata": {
        "id": "A9S3IRKFGykQ"
      }
    },
    {
      "cell_type": "code",
      "source": [
        "!pip install -r requirements.txt\n"
      ],
      "metadata": {
        "colab": {
          "base_uri": "https://localhost:8080/"
        },
        "id": "xpu3yQ7EGzP9",
        "outputId": "3977d3ee-2ba1-416f-cf2d-8731d20c443f"
      },
      "execution_count": 2,
      "outputs": [
        {
          "output_type": "stream",
          "name": "stdout",
          "text": [
            "\u001b[31mERROR: Could not open requirements file: [Errno 2] No such file or directory: 'requirements.txt'\u001b[0m\u001b[31m\n",
            "\u001b[0m"
          ]
        }
      ]
    },
    {
      "cell_type": "markdown",
      "source": [
        "## 3. Run a Quick Simulation\n"
      ],
      "metadata": {
        "id": "xmEkd-lXG49k"
      }
    },
    {
      "cell_type": "code",
      "source": [
        "import pandas as pd\n",
        "from model import run_experiments\n",
        "\n",
        "# Run a small test simulation\n",
        "agent_df, collective_df, market_df = run_experiments(\n",
        "    runs=1, steps=10, media=2, community=2, individuals=100\n",
        ")\n",
        "\n",
        "# Display head of each DataFrame\n",
        "print('Agent Data:')\n",
        "display(agent_df.head())\n",
        "\n",
        "print('Collective Data:')\n",
        "display(collective_df.head())\n",
        "\n",
        "print('Market Data:')\n",
        "display(market_df.head())\n"
      ],
      "metadata": {
        "id": "pkBsVCyLG3RD"
      },
      "execution_count": null,
      "outputs": []
    },
    {
      "cell_type": "markdown",
      "source": [
        "## 4. Plot Taste Similarity Over Time\n"
      ],
      "metadata": {
        "id": "7cIUzswdG8RX"
      }
    },
    {
      "cell_type": "code",
      "source": [
        "import matplotlib.pyplot as plt\n",
        "\n",
        "# Plot the taste-group similarities from the market data\n",
        "market_df.plot(x='time', y=['youth_mid', 'mid_old', 'youth_old'], marker='o')\n",
        "plt.title('Taste Similarity Over Time')\n",
        "plt.xlabel('Time Step')\n",
        "plt.ylabel('Cosine Similarity')\n",
        "plt.grid(True)\n",
        "plt.show()\n"
      ],
      "metadata": {
        "id": "Z9A_8LMyGy-z"
      },
      "execution_count": null,
      "outputs": []
    }
  ]
}